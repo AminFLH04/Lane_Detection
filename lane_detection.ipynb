{
  "nbformat": 4,
  "nbformat_minor": 0,
  "metadata": {
    "colab": {
      "provenance": []
    },
    "kernelspec": {
      "name": "python3",
      "display_name": "Python 3"
    },
    "language_info": {
      "name": "python"
    }
  },
  "cells": [
    {
      "cell_type": "code",
      "execution_count": 4,
      "metadata": {
        "colab": {
          "base_uri": "https://localhost:8080/"
        },
        "id": "dcv3h02Kmk1A",
        "outputId": "e52fde0f-27a4-45bd-e140-0668404fae28"
      },
      "outputs": [
        {
          "output_type": "execute_result",
          "data": {
            "text/plain": [
              "True"
            ]
          },
          "metadata": {},
          "execution_count": 4
        }
      ],
      "source": [
        "import cv2\n",
        "import numpy as np\n",
        "\n",
        "# function to detect lanes\n",
        "def lane_detection(image):\n",
        "  try:\n",
        "    # creating gray scale image\n",
        "    gray_image = cv2.cvtColor(image,cv2.COLOR_RGB2GRAY)\n",
        "\n",
        "    # creating canny image\n",
        "    canny_image = cv2.Canny(gray_image, 50 , 150)\n",
        "\n",
        "    # getting height and width of image\n",
        "    h, w, c = image.shape\n",
        "\n",
        "    # making a triangle to mask the canny image\n",
        "    # you can change the points to wherever you want to have a different part of image\n",
        "    triangle = np.array([[(int(w/5),h),(int(w*0.8)+20,h),(int(w/2+70),int(h/2)+100),(int(w/2-50),int(h/2)+100)]])\n",
        "    mask = np.zeros_like(image)\n",
        "    cv2.fillPoly(mask,triangle,[255,255,255])\n",
        "    mask = cv2.cvtColor(mask,cv2.COLOR_RGB2GRAY)\n",
        "    masked_image = cv2.bitwise_and(canny_image, mask)\n",
        "\n",
        "    #### making the lines out of canny masked image\n",
        "    # explaining the parameters:\n",
        "    # masked_image: our image\n",
        "    # 5,np.pi/180: related to polar coordinates\n",
        "    # 70: threshold value\n",
        "    # np.array([]): optional placeholder for storing the output lines\n",
        "    # minLineLength: lines shorter than this length will be rejected\n",
        "    # maxLineGap: if the gap between two line segments is greater than this value, they will be treated as separate lines\n",
        "    init_lines = cv2.HoughLinesP(masked_image, 5, np.pi/180, 70, np.array([]), minLineLength=1, maxLineGap=200)\n",
        "\n",
        "    # Checking for valid lines\n",
        "    lines = []\n",
        "    for line in init_lines:\n",
        "      x1, y1, x2, y2 = line.reshape(4)\n",
        "      parameters = np.polyfit((x1,x2),(y1,y2),1)\n",
        "      slope = parameters[0]\n",
        "      intercept = parameters[1]\n",
        "      if ((not 600 < x1 < 700) and not ((-0.5 < slope <0 and intercept>image.shape[1]/2) or (0 < slope <0.5 and intercept<image.shape[1]/2))) and not -0.5<slope<0.5:\n",
        "        lines.append(line)\n",
        "\n",
        "    # creating lines\n",
        "    lines_image = np.zeros_like(image)\n",
        "    if lines is not None:\n",
        "      for line in lines:\n",
        "        x1, y1, x2, y2 = line.reshape(4)\n",
        "        # last two parameters are color and thickness of lines\n",
        "        cv2.line(lines_image, (x1,y1), (x2,y2), (255,0,0), 10)\n",
        "    image_with_some_lines = cv2.addWeighted(image, 0.8, lines_image, 1, 0)\n",
        "\n",
        "    # checking which line is for which lane(right or left) by checking slope and intercept of lines\n",
        "    left_fit = []\n",
        "    right_fit = []\n",
        "    for line in lines:\n",
        "      x1, y1, x2, y2 = line.reshape(4)\n",
        "      parameters = np.polyfit((x1,x2),(y1,y2),1)\n",
        "      slope = parameters[0]\n",
        "      intercept = parameters[1]\n",
        "      if -1 < slope < 0:\n",
        "        left_fit.append((slope,intercept))\n",
        "      elif 0 < slope < 1:\n",
        "        right_fit.append((slope,intercept))\n",
        "\n",
        "    # detecting one line for each side\n",
        "    left_fit_average = np.average(left_fit, axis=0)\n",
        "    right_fit_average = np.average(right_fit, axis=0)\n",
        "    slope,intercept = left_fit_average\n",
        "    y1 = image.shape[0] - 20\n",
        "    y2 = int(y1*3.5/5)\n",
        "    x1 = int((y1 - intercept) / slope)\n",
        "    x2 = int((y2 - intercept) / slope)\n",
        "    left_line = np.array([x1,y1,x2,y2])\n",
        "    slope,intercept = right_fit_average\n",
        "    y1 = image.shape[0] - 20\n",
        "    y2 = int(y1*3.5/5)\n",
        "    x1 = int((y1 - intercept) / slope)\n",
        "    x2 = int((y2 - intercept) / slope)\n",
        "    right_line = np.array([x1,y1,x2,y2])\n",
        "    final_lines = np.array([left_line, right_line])\n",
        "\n",
        "    # drawing that two lines\n",
        "    lines_image2 = np.zeros_like(image)\n",
        "    for line in final_lines:\n",
        "      x1, y1, x2, y2 = line.reshape(4)\n",
        "      cv2.line(lines_image2, (x1,y1), (x2,y2), (255,0,0), 10)\n",
        "\n",
        "    # output as an image\n",
        "    final_image = cv2.addWeighted(image, 0.8, lines_image2, 1, 0)\n",
        "    return final_image\n",
        "\n",
        "  except:\n",
        "    # if any error occured, this code gives a error print and gives back the initial image\n",
        "    print('\\n\\nan error occurred!')\n",
        "    return image\n",
        "\n",
        "# using the function\n",
        "image = cv2.imread('path to image.jpg')\n",
        "final_image = lane_detection(image)\n",
        "cv2.imwrite('final_image.jpg', final_image)"
      ]
    }
  ]
}